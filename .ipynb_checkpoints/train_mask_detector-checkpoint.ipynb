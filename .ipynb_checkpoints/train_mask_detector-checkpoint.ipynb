{
 "cells": [
  {
   "cell_type": "markdown",
   "metadata": {},
   "source": [
    "### 1. Importing necessary packages"
   ]
  },
  {
   "cell_type": "code",
   "execution_count": 18,
   "metadata": {},
   "outputs": [],
   "source": [
    "from tensorflow.keras.preprocessing.image import ImageDataGenerator, img_to_array, load_img\n",
    "from tensorflow.keras.layers import Input, Flatten, Dense, Dropout, AveragePooling2D\n",
    "from tensorflow.keras.models import Model\n",
    "from tensorflow.keras.optimizers import Adam\n",
    "from tensorflow.keras.applications import MobileNetV2\n",
    "from tensorflow.keras.applications.mobilenet_v2 import preprocess_input\n",
    "from tensorflow.keras.utils import to_categorical\n",
    "\n",
    "from sklearn.preprocessing import LabelBinarizer\n",
    "from sklearn.model_selection import train_test_split\n",
    "from sklearn.metrics import classification_report\n",
    "from imutils import paths\n",
    "import matplotlib.pyplot as plt\n",
    "import numpy as np\n",
    "import os"
   ]
  },
  {
   "cell_type": "code",
   "execution_count": 5,
   "metadata": {},
   "outputs": [],
   "source": [
    "# initializing the initial learning rate, number of epochs and batch size\n",
    "EPOCHS = 20\n",
    "LEARNING_RATE = 1e-4\n",
    "BATCH_SZ = 32"
   ]
  },
  {
   "cell_type": "code",
   "execution_count": 6,
   "metadata": {},
   "outputs": [],
   "source": [
    "# defining the data path and defining the categories\n",
    "BASEDIR = \"./dataset\"\n",
    "CATEGORIES = [\"with_mask\", \"without_mask\"]"
   ]
  },
  {
   "cell_type": "markdown",
   "metadata": {},
   "source": [
    "### 2. Data preprocessing"
   ]
  },
  {
   "cell_type": "code",
   "execution_count": 14,
   "metadata": {},
   "outputs": [
    {
     "name": "stderr",
     "output_type": "stream",
     "text": [
      "c:\\users\\robin\\appdata\\local\\programs\\python\\python38\\lib\\site-packages\\PIL\\Image.py:960: UserWarning: Palette images with Transparency expressed in bytes should be converted to RGBA images\n",
      "  warnings.warn(\n"
     ]
    }
   ],
   "source": [
    "#loading the labled dataset\n",
    "data = []\n",
    "labels = []\n",
    "\n",
    "for category in CATEGORIES:\n",
    "    path = os.path.join(BASEDIR, category)\n",
    "    for img in os.listdir(path):\n",
    "        img_path = os.path.join(path, img)\n",
    "        image = load_img(img_path, target_size=(224, 224)) # loading an image in an converting to uniform size\n",
    "        image = img_to_array(image) # converts image to array (2D)\n",
    "        image = preprocess_input(image) #is used because mobilenet_v2 is used\n",
    "        \n",
    "        data.append(image)\n",
    "        labels.append(category)"
   ]
  },
  {
   "cell_type": "code",
   "execution_count": 15,
   "metadata": {},
   "outputs": [],
   "source": [
    "# preform one-hot-encoding on all the labels\n",
    "lb = LabelBinarizer()\n",
    "labels = lb.fit_transform(labels) #transfroms categories into integers (0 or 1 since it's binary)\n",
    "labels = to_categorical(labels) #transforms class vector into sparse matrix (one-hot)"
   ]
  },
  {
   "cell_type": "code",
   "execution_count": 16,
   "metadata": {},
   "outputs": [],
   "source": [
    "# converting lists into numpy arrays since most ml models will only work with numpy arrays\n",
    "data = np.array(data, dtype=\"float32\")\n",
    "labels = np.array(labels)"
   ]
  },
  {
   "cell_type": "code",
   "execution_count": 17,
   "metadata": {},
   "outputs": [],
   "source": [
    "# splitting the data into train and test data\n",
    "(X_train, X_test, y_train, y_test) = train_test_split(data, labels, test_size=.2, stratify=labels, random_state=42)"
   ]
  },
  {
   "cell_type": "markdown",
   "metadata": {},
   "source": [
    "### 3. Constructing the model and it's submodels"
   ]
  },
  {
   "attachments": {},
   "cell_type": "markdown",
   "metadata": {},
   "source": [
    "<img src=\"https://upload.wikimedia.org/wikipedia/commons/6/63/Typical_cnn.png\" width=\"600\">"
   ]
  },
  {
   "cell_type": "code",
   "execution_count": 19,
   "metadata": {},
   "outputs": [
    {
     "name": "stdout",
     "output_type": "stream",
     "text": [
      "WARNING:tensorflow:`input_shape` is undefined or non-square, or `rows` is not in [96, 128, 160, 192, 224]. Weights for input shape (224, 224) will be loaded as the default.\n",
      "Downloading data from https://storage.googleapis.com/tensorflow/keras-applications/mobilenet_v2/mobilenet_v2_weights_tf_dim_ordering_tf_kernels_1.0_224_no_top.h5\n",
      "9412608/9406464 [==============================] - 5s 1us/step\n"
     ]
    }
   ],
   "source": [
    "# training two models. First training the mobilenet model and it's output will then be used to train the \"normal\" model\n",
    "# mobilenet = base model\n",
    "# other model = head model\n",
    "# --> Model stacking\n",
    "\n",
    "# first construct the training image generator for data augmentation (adds slightly modified copies of existing data)\n",
    "# --> regularizer to prevent overfitting\n",
    "\n",
    "augmentation_model = ImageDataGenerator(rotation_range=20,\n",
    "                                        zoom_range=0.15,\n",
    "                                        width_shift_range=0.2,\n",
    "                                        height_shift_range=0.2,\n",
    "                                        shear_range=0.15,\n",
    "                                        horizontal_flip=True,\n",
    "                                        fill_mode='nearest'\n",
    ")\n",
    "\n",
    "base_model = MobileNetV2(weights=\"imagenet\", #weigts = \"imagenet\" uses pre-trained image focudes models to make a better weight inititalization\n",
    "                         include_top=False, #include_top=False doesn't include fully connceted top layer since not needed\n",
    "                         input_tensor=Input(shape=(224, 224, 3))) # 224px X 224px with 3 color channels (RGB)\n",
    "\n",
    "# constructiong the head model that will be added on top of the base model\n",
    "head_model = base_model.output #output layer of base_model will be input layer for head_model\n",
    "head_model = AveragePooling2D(pool_size=(7,7))(head_model)\n",
    "head_model = Flatten(name=\"flatten\")(head_model)\n",
    "head_model = Dense(128, activation=\"relu\")(head_model) #relu is well suited for non linear use cases\n",
    "head_model = Dropout(0.5)(head_model)\n",
    "head_model = Dense(2, activation=\"softmax\")(head_model) # all activations between 0 & 1 and their sum will be 1\n",
    "\n",
    "# constructing the final model\n",
    "model = Model(inputs=base_model.input, outputs=head_model)\n",
    "\n",
    "# looping over all layers in the base model and prevents the trainability an will not be updated during the first training process\n",
    "# Necessary because they're a replacement for CNN\n",
    "for layer in base_model.layers:\n",
    "    layer.trainable=False"
   ]
  },
  {
   "cell_type": "markdown",
   "metadata": {},
   "source": [
    "### 4. Defining an Adam optimizer and compiling the model"
   ]
  },
  {
   "cell_type": "code",
   "execution_count": 20,
   "metadata": {},
   "outputs": [],
   "source": [
    "optimizer = Adam(lr=LEARNING_RATE, decay=LEARNING_RATE / EPOCHS) # Adam is a go to optimizer for image recognition\n",
    "model.compile(loss=\"binary_crossentropy\", optimizer=optimizer, metrics=[\"accuracy\"])"
   ]
  },
  {
   "cell_type": "markdown",
   "metadata": {},
   "source": [
    "### 5. Training the model"
   ]
  },
  {
   "cell_type": "code",
   "execution_count": 21,
   "metadata": {},
   "outputs": [
    {
     "name": "stdout",
     "output_type": "stream",
     "text": [
      "Epoch 1/20\n",
      "95/95 [==============================] - 52s 548ms/step - loss: 0.3674 - accuracy: 0.8355 - val_loss: 0.0963 - val_accuracy: 0.9765\n",
      "Epoch 2/20\n",
      "95/95 [==============================] - 51s 540ms/step - loss: 0.1264 - accuracy: 0.9581 - val_loss: 0.0550 - val_accuracy: 0.9896\n",
      "Epoch 3/20\n",
      "95/95 [==============================] - 51s 538ms/step - loss: 0.0877 - accuracy: 0.9684 - val_loss: 0.0420 - val_accuracy: 0.9922\n",
      "Epoch 4/20\n",
      "95/95 [==============================] - 51s 541ms/step - loss: 0.0709 - accuracy: 0.9759 - val_loss: 0.0342 - val_accuracy: 0.9948\n",
      "Epoch 5/20\n",
      "95/95 [==============================] - 51s 542ms/step - loss: 0.0705 - accuracy: 0.9782 - val_loss: 0.0322 - val_accuracy: 0.9948\n",
      "Epoch 6/20\n",
      "95/95 [==============================] - 51s 539ms/step - loss: 0.0489 - accuracy: 0.9838 - val_loss: 0.0299 - val_accuracy: 0.9948\n",
      "Epoch 7/20\n",
      "95/95 [==============================] - 51s 539ms/step - loss: 0.0418 - accuracy: 0.9845 - val_loss: 0.0286 - val_accuracy: 0.9948\n",
      "Epoch 8/20\n",
      "95/95 [==============================] - 51s 541ms/step - loss: 0.0458 - accuracy: 0.9855 - val_loss: 0.0279 - val_accuracy: 0.9922\n",
      "Epoch 9/20\n",
      "95/95 [==============================] - 51s 538ms/step - loss: 0.0331 - accuracy: 0.9911 - val_loss: 0.0281 - val_accuracy: 0.9922\n",
      "Epoch 10/20\n",
      "95/95 [==============================] - 51s 539ms/step - loss: 0.0382 - accuracy: 0.9858 - val_loss: 0.0267 - val_accuracy: 0.9922\n",
      "Epoch 11/20\n",
      "95/95 [==============================] - 51s 540ms/step - loss: 0.0340 - accuracy: 0.9872 - val_loss: 0.0261 - val_accuracy: 0.9922\n",
      "Epoch 12/20\n",
      "95/95 [==============================] - 51s 540ms/step - loss: 0.0363 - accuracy: 0.9885 - val_loss: 0.0278 - val_accuracy: 0.9922\n",
      "Epoch 13/20\n",
      "95/95 [==============================] - 51s 538ms/step - loss: 0.0354 - accuracy: 0.9871 - val_loss: 0.0254 - val_accuracy: 0.9948\n",
      "Epoch 14/20\n",
      "95/95 [==============================] - 53s 559ms/step - loss: 0.0344 - accuracy: 0.9875 - val_loss: 0.0270 - val_accuracy: 0.9922\n",
      "Epoch 15/20\n",
      "95/95 [==============================] - 54s 565ms/step - loss: 0.0287 - accuracy: 0.9895 - val_loss: 0.0225 - val_accuracy: 0.9935\n",
      "Epoch 16/20\n",
      "95/95 [==============================] - 52s 544ms/step - loss: 0.0263 - accuracy: 0.9908 - val_loss: 0.0262 - val_accuracy: 0.9922\n",
      "Epoch 17/20\n",
      "95/95 [==============================] - 52s 550ms/step - loss: 0.0246 - accuracy: 0.9921 - val_loss: 0.0224 - val_accuracy: 0.9935\n",
      "Epoch 18/20\n",
      "95/95 [==============================] - 52s 543ms/step - loss: 0.0279 - accuracy: 0.9901 - val_loss: 0.0217 - val_accuracy: 0.9935\n",
      "Epoch 19/20\n",
      "95/95 [==============================] - 51s 541ms/step - loss: 0.0240 - accuracy: 0.9921 - val_loss: 0.0220 - val_accuracy: 0.9922\n",
      "Epoch 20/20\n",
      "95/95 [==============================] - 52s 546ms/step - loss: 0.0190 - accuracy: 0.9937 - val_loss: 0.0229 - val_accuracy: 0.9922\n"
     ]
    }
   ],
   "source": [
    "history = model.fit(\n",
    "    augmentation_model.flow(X_train, y_train, batch_size=BATCH_SZ), #augmenting training data to get more and reduce variance\n",
    "    steps_per_epoch=len(X_train) // BATCH_SZ,\n",
    "    validation_data=(X_test, y_test),\n",
    "    validation_steps=len(X_test) // BATCH_SZ,\n",
    "    epochs=EPOCHS\n",
    ")"
   ]
  },
  {
   "cell_type": "code",
   "execution_count": 22,
   "metadata": {},
   "outputs": [],
   "source": [
    "# making predictions on the test data\n",
    "preds = model.predict(X_test, batch_size=BATCH_SZ)\n",
    "\n",
    "# finding the index of the label with the highest probability for each label\n",
    "preds = np.argmax(preds, axis=1)"
   ]
  },
  {
   "cell_type": "markdown",
   "metadata": {},
   "source": [
    "### 6. Classification report"
   ]
  },
  {
   "cell_type": "code",
   "execution_count": 23,
   "metadata": {},
   "outputs": [
    {
     "name": "stdout",
     "output_type": "stream",
     "text": [
      "              precision    recall  f1-score   support\n",
      "\n",
      "   with_mask       0.99      0.99      0.99       383\n",
      "without_mask       0.99      0.99      0.99       384\n",
      "\n",
      "    accuracy                           0.99       767\n",
      "   macro avg       0.99      0.99      0.99       767\n",
      "weighted avg       0.99      0.99      0.99       767\n",
      "\n"
     ]
    }
   ],
   "source": [
    "print(classification_report(y_test.argmax(axis=1), preds, target_names=lb.classes_))"
   ]
  },
  {
   "cell_type": "markdown",
   "metadata": {},
   "source": [
    "### 7. Saving the model locally"
   ]
  },
  {
   "cell_type": "code",
   "execution_count": 24,
   "metadata": {},
   "outputs": [],
   "source": [
    "model.save(\"face_mask_detector.model\", save_format=\"h5\")"
   ]
  },
  {
   "cell_type": "markdown",
   "metadata": {},
   "source": [
    "### 8. Plotting the training process"
   ]
  },
  {
   "cell_type": "code",
   "execution_count": 27,
   "metadata": {},
   "outputs": [
    {
     "data": {
      "image/png": "[encoded data removed]",
      "text/plain": [
       "<Figure size 432x288 with 1 Axes>"
      ]
     },
     "metadata": {
      "needs_background": "light"
     },
     "output_type": "display_data"
    }
   ],
   "source": [
    "N = EPOCHS\n",
    "\n",
    "plt.plot(np.arange(0, N), history.history[\"loss\"], label=\"train_loss\")\n",
    "plt.plot(np.arange(0, N), history.history[\"val_loss\"], label=\"validation_loss\")\n",
    "plt.plot(np.arange(0, N), history.history[\"accuracy\"], label=\"train_acc\")\n",
    "plt.plot(np.arange(0, N), history.history[\"val_accuracy\"], label=\"validation_acc\")\n",
    "\n",
    "plt.title(\"History of loss and accuracy over epochs\")\n",
    "plt.xlabel(\"Number of epoch\")\n",
    "plt.ylabel(\"Loss / Accuracy\")\n",
    "plt.legend(loc=\"center right\")\n",
    "plt.savefig(\"History of loss and accuracy over epochs.png\")\n",
    "plt.show()"
   ]
  },
  {
   "cell_type": "markdown",
   "metadata": {},
   "source": [
    "Note: Initialization of MobileNetV2 was pretty good for this use case"
   ]
  }
 ],
 "metadata": {
  "kernelspec": {
   "display_name": "Python 3",
   "language": "python",
   "name": "python3"
  },
  "language_info": {
   "codemirror_mode": {
    "name": "ipython",
    "version": 3
   },
   "file_extension": ".py",
   "mimetype": "text/x-python",
   "name": "python",
   "nbconvert_exporter": "python",
   "pygments_lexer": "ipython3",
   "version": "3.8.2"
  }
 },
 "nbformat": 4,
 "nbformat_minor": 4
}
